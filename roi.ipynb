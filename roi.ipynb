{
 "cells": [
  {
   "cell_type": "code",
   "execution_count": 11,
   "id": "a90b975b",
   "metadata": {},
   "outputs": [
    {
     "name": "stdout",
     "output_type": "stream",
     "text": [
      "✅ ROI Tracker output saved to D:\\CTS Claims project\\roi_output.json\n"
     ]
    }
   ],
   "source": [
    "import json\n",
    "\n",
    "def calculate_roi_only(tp, avg_claim_value, personnel_cost, infra_cost, compliance_cost):\n",
    "    recovered_amount = tp * avg_claim_value\n",
    "    total_cost = personnel_cost + infra_cost + compliance_cost\n",
    "    roi = (recovered_amount - total_cost) / total_cost if total_cost > 0 else 0\n",
    "\n",
    "    return {\n",
    "        \"True Positives\": tp,\n",
    "        \"Average Claim Value\": avg_claim_value,\n",
    "        \"Recovered Amount\": recovered_amount,\n",
    "        \"Total Cost\": total_cost,\n",
    "        \"ROI\": roi\n",
    "    }\n",
    "\n",
    "if __name__ == \"__main__\":\n",
    "    with open(r\"D:\\CTS Claims project\\metrics_table.json\", \"r\") as f:\n",
    "        input_data = json.load(f)\n",
    "\n",
    "    if isinstance(input_data, list) and len(input_data) > 0:\n",
    "        input_data = input_data[0]\n",
    "\n",
    "    tp = input_data.get(\"TP\", 0)\n",
    "    avg_claim_value = input_data.get(\"Avg Claim Value\", 0.0)\n",
    "    personnel_cost = input_data.get(\"Personnel Cost\", 0)\n",
    "    infra_cost = input_data.get(\"Infra Cost\", 0)\n",
    "    compliance_cost = input_data.get(\"Compliance Cost\", 0)\n",
    "\n",
    "    result = calculate_roi_only(tp, avg_claim_value, personnel_cost, infra_cost, compliance_cost)\n",
    "\n",
    "    output_file = r\"D:\\CTS Claims project\\roi_output.json\"\n",
    "    with open(output_file, \"w\") as f:\n",
    "        json.dump(result, f, indent=4)\n",
    "\n",
    "    print(f\"✅ ROI Tracker output saved to {output_file}\")\n"
   ]
  },
  {
   "cell_type": "code",
   "execution_count": null,
   "id": "3af3dac0",
   "metadata": {},
   "outputs": [],
   "source": []
  }
 ],
 "metadata": {
  "kernelspec": {
   "display_name": "pattern",
   "language": "python",
   "name": "python3"
  },
  "language_info": {
   "codemirror_mode": {
    "name": "ipython",
    "version": 3
   },
   "file_extension": ".py",
   "mimetype": "text/x-python",
   "name": "python",
   "nbconvert_exporter": "python",
   "pygments_lexer": "ipython3",
   "version": "3.11.4"
  }
 },
 "nbformat": 4,
 "nbformat_minor": 5
}
